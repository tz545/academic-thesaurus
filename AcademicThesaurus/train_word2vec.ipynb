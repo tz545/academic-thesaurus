{
  "cells": [
    {
      "cell_type": "markdown",
      "metadata": {
        "id": "NY_GOqOmeai8"
      },
      "source": [
        "This notebook trains the word2vec model in the project: https://github.com/tz545/academic-thesaurus. "
      ]
    },
    {
      "cell_type": "code",
      "execution_count": 1,
      "metadata": {
        "colab": {
          "base_uri": "https://localhost:8080/"
        },
        "id": "MAmBEQEseSDB",
        "outputId": "01ee77a8-569e-4140-ea33-bf6b8900ffc4"
      },
      "outputs": [
        {
          "output_type": "stream",
          "name": "stdout",
          "text": [
            "Mounted at /content/drive\n",
            "/content/drive/MyDrive/Documents/HLML/AcademicThesaurus/AcademicThesaurus\n"
          ]
        }
      ],
      "source": [
        "IN_COLAB = 'google.colab' in str(get_ipython())\n",
        "TRAIN = True\n",
        "\n",
        "if IN_COLAB:\n",
        "    from google.colab import drive\n",
        "    drive.mount('/content/drive', force_remount=True)\n",
        "    %cd /content/drive/MyDrive/Documents/HLML/AcademicThesaurus/AcademicThesaurus/"
      ]
    },
    {
      "cell_type": "code",
      "execution_count": 2,
      "metadata": {
        "colab": {
          "base_uri": "https://localhost:8080/"
        },
        "id": "pKPvGy_AeZlH",
        "outputId": "6f0cbcbe-ed3f-4a88-f955-6a3f705225cc"
      },
      "outputs": [
        {
          "output_type": "stream",
          "name": "stdout",
          "text": [
            "torch.cuda.is_available(): True\n",
            "Device: cuda\n"
          ]
        }
      ],
      "source": [
        "import torch\n",
        "device = torch.device(\"cuda\" if torch.cuda.is_available() else \"cpu\")\n",
        "print('torch.cuda.is_available():', torch.cuda.is_available())\n",
        "print('Device:', device)"
      ]
    },
    {
      "cell_type": "code",
      "execution_count": 3,
      "metadata": {
        "colab": {
          "base_uri": "https://localhost:8080/"
        },
        "id": "7Fk89pj563-y",
        "outputId": "e4de4767-8a5e-45ad-d153-2eaaeceeb6c7"
      },
      "outputs": [
        {
          "output_type": "stream",
          "name": "stdout",
          "text": [
            "Looking in indexes: https://pypi.org/simple, https://us-python.pkg.dev/colab-wheels/public/simple/\n",
            "Collecting feedparser\n",
            "  Downloading feedparser-6.0.10-py3-none-any.whl (81 kB)\n",
            "\u001b[K     |████████████████████████████████| 81 kB 6.1 MB/s \n",
            "\u001b[?25hCollecting sgmllib3k\n",
            "  Downloading sgmllib3k-1.0.0.tar.gz (5.8 kB)\n",
            "Building wheels for collected packages: sgmllib3k\n",
            "  Building wheel for sgmllib3k (setup.py) ... \u001b[?25l\u001b[?25hdone\n",
            "  Created wheel for sgmllib3k: filename=sgmllib3k-1.0.0-py3-none-any.whl size=6066 sha256=48c63dbd882045c2af762478c1bbd0ff99d6ebf0d8a4f88bd0b1729d08370063\n",
            "  Stored in directory: /root/.cache/pip/wheels/73/ad/a4/0dff4a6ef231fc0dfa12ffbac2a36cebfdddfe059f50e019aa\n",
            "Successfully built sgmllib3k\n",
            "Installing collected packages: sgmllib3k, feedparser\n",
            "Successfully installed feedparser-6.0.10 sgmllib3k-1.0.0\n"
          ]
        }
      ],
      "source": [
        "!pip install feedparser"
      ]
    },
    {
      "cell_type": "markdown",
      "source": [
        "Load the vocab and datasets created from arxiv papers containing the keyword \"ecology\""
      ],
      "metadata": {
        "id": "J31Hje39ikoE"
      }
    },
    {
      "cell_type": "code",
      "execution_count": 4,
      "metadata": {
        "id": "5MGmOZ2xej-Z"
      },
      "outputs": [],
      "source": [
        "import pickle\n",
        "import os\n",
        "from word2vec_cbow import Vocabulary, CBOWDataset, CBOW_Model\n",
        "from train_word2vec import train_model\n",
        "import torch.nn as nn"
      ]
    },
    {
      "cell_type": "code",
      "execution_count": 5,
      "metadata": {
        "id": "dKhHtu4xfKmJ"
      },
      "outputs": [],
      "source": [
        "with open(\"../data_processed/ecology_vocab.pkl\", 'rb') as inp:\n",
        "    voc = pickle.load(inp)\n",
        "\n",
        "with open(\"../data_processed/ecology_ds.pkl\", 'rb') as inp:\n",
        "    dataset = pickle.load(inp)"
      ]
    },
    {
      "cell_type": "markdown",
      "source": [
        "Train the model for 5 epochs"
      ],
      "metadata": {
        "id": "kKeKhCDcjFae"
      }
    },
    {
      "cell_type": "code",
      "execution_count": null,
      "metadata": {
        "colab": {
          "base_uri": "https://localhost:8080/"
        },
        "id": "G8SQ4Oe3fyO9",
        "outputId": "72105c3c-d266-4977-c872-5b3b49607515"
      },
      "outputs": [
        {
          "output_type": "stream",
          "name": "stdout",
          "text": [
            "Total training loss:  0.246416493493787\n",
            "Total validation loss:  0.24329336686784606\n",
            "Total training loss:  0.2417434332965389\n",
            "Total validation loss:  0.24314720359734096\n",
            "Total training loss:  0.24190926930943235\n",
            "Total validation loss:  0.24348660452171406\n",
            "Total training loss:  0.24263884118859597\n",
            "Total validation loss:  0.24398360700664865\n",
            "Total training loss:  0.2433994941009002\n",
            "Total validation loss:  0.24548899257383638\n"
          ]
        }
      ],
      "source": [
        "train_loss, val_loss = train_model(\"ecology\", dataset, voc, batch_size=30, epochs=5, device=device)"
      ]
    },
    {
      "cell_type": "markdown",
      "source": [
        "Visualize the training and validation loss curves"
      ],
      "metadata": {
        "id": "zjPbCTuOjXBG"
      }
    },
    {
      "cell_type": "code",
      "source": [
        "import matplotlib.pyplot as plt \n",
        "import numpy as np "
      ],
      "metadata": {
        "id": "gvQVS_lVufvN"
      },
      "execution_count": 7,
      "outputs": []
    },
    {
      "cell_type": "code",
      "source": [
        "plt.plot(np.arange(len(train_loss)), train_loss)"
      ],
      "metadata": {
        "colab": {
          "base_uri": "https://localhost:8080/",
          "height": 283
        },
        "id": "d-XhcS6fujRn",
        "outputId": "cc9230c0-1cc8-415c-e61f-f4290f8e64fb"
      },
      "execution_count": null,
      "outputs": [
        {
          "output_type": "execute_result",
          "data": {
            "text/plain": [
              "[<matplotlib.lines.Line2D at 0x7f23eae17390>]"
            ]
          },
          "metadata": {},
          "execution_count": 38
        },
        {
          "output_type": "display_data",
          "data": {
            "text/plain": [
              "<Figure size 432x288 with 1 Axes>"
            ],
            "image/png": "[encoded data removed]"
          },
          "metadata": {
            "needs_background": "light"
          }
        }
      ]
    },
    {
      "cell_type": "code",
      "source": [
        "plt.plot(np.arange(len(val_loss)), val_loss)"
      ],
      "metadata": {
        "colab": {
          "base_uri": "https://localhost:8080/",
          "height": 283
        },
        "id": "Rc9_wMTcuo62",
        "outputId": "93fd7ed4-8d8e-4180-dd0c-563de0d55969"
      },
      "execution_count": null,
      "outputs": [
        {
          "output_type": "execute_result",
          "data": {
            "text/plain": [
              "[<matplotlib.lines.Line2D at 0x7f23eadf9750>]"
            ]
          },
          "metadata": {},
          "execution_count": 37
        },
        {
          "output_type": "display_data",
          "data": {
            "text/plain": [
              "<Figure size 432x288 with 1 Axes>"
            ],
            "image/png": "[encoded data removed]"
          },
          "metadata": {
            "needs_background": "light"
          }
        }
      ]
    },
    {
      "cell_type": "markdown",
      "source": [
        "Generate some related word samples"
      ],
      "metadata": {
        "id": "zvyagfvdkRRI"
      }
    },
    {
      "cell_type": "code",
      "source": [
        "from generate_related_words import academic_thesaurus"
      ],
      "metadata": {
        "id": "nrAsSnSsybbg"
      },
      "execution_count": 7,
      "outputs": []
    },
    {
      "cell_type": "code",
      "source": [
        "academic_thesaurus(\"ecology\", \"biology\")"
      ],
      "metadata": {
        "colab": {
          "base_uri": "https://localhost:8080/"
        },
        "id": "UvPEUkWikmwc",
        "outputId": "262a0293-ccfc-4cd8-cbe1-01acebd4c7f7"
      },
      "execution_count": 21,
      "outputs": [
        {
          "output_type": "execute_result",
          "data": {
            "text/plain": [
              "{'citizen': 0.27972543,\n",
              " 'complex': 0.23790734,\n",
              " 'designing': 0.22433338,\n",
              " 'emergence': 0.23324907,\n",
              " 'parsimonious': 0.22272396,\n",
              " 'reinforcement': 0.25704685,\n",
              " 'shed': 0.24830875,\n",
              " 'specially': 0.24267569,\n",
              " 'topic': 0.23515934,\n",
              " 'understanding': 0.24592328}"
            ]
          },
          "metadata": {},
          "execution_count": 21
        }
      ]
    },
    {
      "cell_type": "code",
      "source": [
        "academic_thesaurus(\"ecology\", \"niche\")"
      ],
      "metadata": {
        "colab": {
          "base_uri": "https://localhost:8080/"
        },
        "id": "ooEGPRwlUGm6",
        "outputId": "cbd6466d-ccc0-44e9-f495-2d4a122ff119"
      },
      "execution_count": 20,
      "outputs": [
        {
          "output_type": "execute_result",
          "data": {
            "text/plain": [
              "{'consumer': 0.2535851,\n",
              " 'dynamics': 0.22078398,\n",
              " 'exclusion': 0.22313766,\n",
              " 'externally': 0.21600363,\n",
              " 'feeding': 0.21817698,\n",
              " 'incorporated': 0.21153033,\n",
              " 'mutualistic': 0.22880353,\n",
              " 'nodal': 0.22041456,\n",
              " 'nonlinear': 0.2237287,\n",
              " 'spatial': 0.2394875}"
            ]
          },
          "metadata": {},
          "execution_count": 20
        }
      ]
    },
    {
      "cell_type": "code",
      "source": [
        "academic_thesaurus(\"ecology\", \"stable\")"
      ],
      "metadata": {
        "colab": {
          "base_uri": "https://localhost:8080/"
        },
        "id": "E-JlDeJyy9eq",
        "outputId": "972e6ac7-68ca-47d4-bd7c-953f01af1ab2"
      },
      "execution_count": 19,
      "outputs": [
        {
          "output_type": "execute_result",
          "data": {
            "text/plain": [
              "{'clone': 0.20729634,\n",
              " 'death': 0.23773187,\n",
              " 'equilibrium': 0.21123397,\n",
              " 'extant': 0.2163423,\n",
              " 'fixed': 0.20835713,\n",
              " 'mortality': 0.2159956,\n",
              " 'point': 0.23897713,\n",
              " 'reactive': 0.21955144,\n",
              " 'state': 0.21736577,\n",
              " 'stationary': 0.2264913}"
            ]
          },
          "metadata": {},
          "execution_count": 19
        }
      ]
    },
    {
      "cell_type": "code",
      "source": [
        "academic_thesaurus(\"ecology\", \"understanding\")"
      ],
      "metadata": {
        "colab": {
          "base_uri": "https://localhost:8080/"
        },
        "id": "hhAZJOO3zLI1",
        "outputId": "cd45d0ed-e744-4aa6-cd85-3f5a1abdd71f"
      },
      "execution_count": 18,
      "outputs": [
        {
          "output_type": "execute_result",
          "data": {
            "text/plain": [
              "{'biology': 0.24592328,\n",
              " 'citizen': 0.27528358,\n",
              " 'deep': 0.24065463,\n",
              " 'machine': 0.25853387,\n",
              " 'mining': 0.24287,\n",
              " 'organismal': 0.24227944,\n",
              " 'overview': 0.228995,\n",
              " 'prevention': 0.22874762,\n",
              " 'successfully': 0.23458296,\n",
              " 'world': 0.22821572}"
            ]
          },
          "metadata": {},
          "execution_count": 18
        }
      ]
    },
    {
      "cell_type": "code",
      "source": [
        "academic_thesaurus(\"ecology\", \"abundance\")"
      ],
      "metadata": {
        "colab": {
          "base_uri": "https://localhost:8080/"
        },
        "id": "8t9iqGPRzW3M",
        "outputId": "69431e4d-e685-408c-fb6a-11eca7f1b974"
      },
      "execution_count": 17,
      "outputs": [
        {
          "output_type": "execute_result",
          "data": {
            "text/plain": [
              "{'abundant': 0.23077786,\n",
              " 'compete': 0.2553249,\n",
              " 'correspond': 0.2426943,\n",
              " 'discreteness': 0.2307463,\n",
              " 'exceed': 0.24620304,\n",
              " 'externally': 0.23376276,\n",
              " 'interaction': 0.24496728,\n",
              " 'mutant': 0.23437104,\n",
              " 'richness': 0.23019731,\n",
              " 'steady': 0.2480846}"
            ]
          },
          "metadata": {},
          "execution_count": 17
        }
      ]
    },
    {
      "cell_type": "code",
      "source": [
        "academic_thesaurus(\"ecology\", \"species\")"
      ],
      "metadata": {
        "colab": {
          "base_uri": "https://localhost:8080/"
        },
        "id": "DTkFJUdgzb_2",
        "outputId": "34bfd766-8e2e-4026-b10e-346d3946a507"
      },
      "execution_count": 16,
      "outputs": [
        {
          "output_type": "execute_result",
          "data": {
            "text/plain": [
              "{'facilitation': 0.2561527,\n",
              " 'heterogeneity': 0.24633099,\n",
              " 'mutualism': 0.24003027,\n",
              " 'persistence': 0.2405929,\n",
              " 'pinning': 0.24738811,\n",
              " 'population': 0.2814226,\n",
              " 'predation': 0.26344836,\n",
              " 'predator': 0.28833932,\n",
              " 'synonymous': 0.24086553,\n",
              " 'trophic': 0.27953577}"
            ]
          },
          "metadata": {},
          "execution_count": 16
        }
      ]
    },
    {
      "cell_type": "code",
      "source": [
        "academic_thesaurus(\"ecology\", \"physics\")"
      ],
      "metadata": {
        "colab": {
          "base_uri": "https://localhost:8080/"
        },
        "id": "i1SteNBHz9Ze",
        "outputId": "8d05c1ab-f1ad-40d6-b83e-8e833b6dc0bb"
      },
      "execution_count": 15,
      "outputs": [
        {
          "output_type": "execute_result",
          "data": {
            "text/plain": [
              "{'citizen': 0.29124677,\n",
              " 'conceptual': 0.26149756,\n",
              " 'homogenization': 0.21782689,\n",
              " 'mining': 0.22496739,\n",
              " 'realm': 0.2139141,\n",
              " 'science': 0.22513053,\n",
              " 'scrutinize': 0.22581294,\n",
              " 'shaping': 0.21626179,\n",
              " 'systematically': 0.21437095,\n",
              " 'world': 0.26551163}"
            ]
          },
          "metadata": {},
          "execution_count": 15
        }
      ]
    },
    {
      "cell_type": "code",
      "source": [
        "academic_thesaurus(\"ecology\", \"distribution\")"
      ],
      "metadata": {
        "colab": {
          "base_uri": "https://localhost:8080/"
        },
        "id": "fTLUDpKOz_SK",
        "outputId": "21b9de8a-0946-40bf-9398-996bb6d20bc4"
      },
      "execution_count": 22,
      "outputs": [
        {
          "output_type": "execute_result",
          "data": {
            "text/plain": [
              "{'affine': 0.18988766,\n",
              " 'analytically': 0.18201585,\n",
              " 'conditional': 0.18787557,\n",
              " 'constant': 0.18119997,\n",
              " 'correlation': 0.17859969,\n",
              " 'eigenvalue': 0.17858759,\n",
              " 'expression': 0.1949773,\n",
              " 'normally': 0.18330906,\n",
              " 'saturate': 0.17894572,\n",
              " 'size': 0.19415145}"
            ]
          },
          "metadata": {},
          "execution_count": 22
        }
      ]
    }
  ],
  "metadata": {
    "accelerator": "GPU",
    "colab": {
      "name": "train_word2vec.ipynb",
      "provenance": []
    },
    "kernelspec": {
      "display_name": "Python 3",
      "name": "python3"
    },
    "language_info": {
      "name": "python"
    }
  },
  "nbformat": 4,
  "nbformat_minor": 0
}